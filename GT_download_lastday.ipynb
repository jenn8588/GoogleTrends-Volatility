{
 "cells": [
  {
   "cell_type": "markdown",
   "metadata": {},
   "source": [
    "import pytrends\n",
    "import datetime \n",
    "from pytrends.request import TrendReq\n",
    "import pandas as pd\n",
    "\n",
    "def GT(kw_string,geography):\n",
    "    pytrend = TrendReq(hl=geography, tz=480, timeout=(100,25), proxies=['https://35.201.123.31:880'], retries=2, backoff_factor=1)\n",
    "    today = datetime.date.today()\n",
    "    yestoday = today - datetime.timedelta(days = 1)\n",
    "    before7 = today - datetime.timedelta(days = 9)\n",
    "    before60 = today - datetime.timedelta(days = 31)\n",
    "    \n",
    "    df = pd.DataFrame()\n",
    "    pytrend.build_payload(kw_list=[kw_string], cat=7, timeframe='{} {}'.format(before60 , today) , geo=geography, gprop='')\n",
    "    pytrend.interest_over_time().get(kw_string)\n",
    "    df=df.append(pytrend.interest_over_time())\n",
    "    try:\n",
    "        df = df.drop(\"isPartial\",axis=1)\n",
    "    except:\n",
    "        return df\n",
    "    else:\n",
    "        return df"
   ]
  },
  {
   "cell_type": "code",
   "execution_count": 5,
   "metadata": {
    "scrolled": true
   },
   "outputs": [],
   "source": [
    "import pytrends\n",
    "import datetime \n",
    "from pytrends.request import TrendReq\n",
    "import pandas as pd\n",
    "\n",
    "def GT_1mon(kw_string,geography):\n",
    "    pytrend = TrendReq(hl=geography, tz=480, timeout=(100,25), retries=2, backoff_factor=1)\n",
    "    \n",
    "    df = pd.DataFrame()\n",
    "    pytrend.build_payload(kw_list=[kw_string], cat=7, timeframe='today 1-m' , geo=geography, gprop='')\n",
    "    pytrend.interest_over_time().get(kw_string)\n",
    "    df=df.append(pytrend.interest_over_time())\n",
    "    try:\n",
    "        df = df.drop(\"isPartial\",axis=1)\n",
    "    except:\n",
    "        return df\n",
    "    else:\n",
    "        return df"
   ]
  },
  {
   "cell_type": "code",
   "execution_count": 1,
   "metadata": {
    "scrolled": true
   },
   "outputs": [],
   "source": [
    "import pytrends\n",
    "import datetime \n",
    "from pytrends.request import TrendReq\n",
    "import pandas as pd\n",
    "\n",
    "def transform_date(x):\n",
    "    x = str(x)[0:10]\n",
    "    try:\n",
    "        return datetime.strptime(str(x), \"%Y-%m-%d\")\n",
    "    except Exception as e:\n",
    "        print(e)\n",
    "\n",
    "def GT_7day(kw_string,geography):\n",
    "    pytrend = TrendReq(hl=geography, tz=480, timeout=(100,25), retries=2, backoff_factor=1)\n",
    "    \n",
    "    df = pd.DataFrame()\n",
    "    pytrend.build_payload(kw_list=[kw_string], cat=7, timeframe='now 7-d' , geo=geography, gprop='')\n",
    "    pytrend.interest_over_time().get(kw_string)\n",
    "    df = df.append(pytrend.interest_over_time())\n",
    "    df.rename(transform_date , inplace =True)\n",
    "    df = df.groupby('date').apply(lambda x : x.mean())\n",
    "    try:\n",
    "        df = df.drop(\"isPartial\",axis=1)\n",
    "    except:\n",
    "        return df\n",
    "    else:\n",
    "        return df"
   ]
  },
  {
   "cell_type": "markdown",
   "metadata": {},
   "source": [
    "GT_csv('risk')"
   ]
  },
  {
   "cell_type": "markdown",
   "metadata": {},
   "source": [
    "keywords = ['color','economy']"
   ]
  },
  {
   "cell_type": "markdown",
   "metadata": {},
   "source": [
    "keyword_fix = ['debt', 'color', 'stocks', 'restaurant', 'portfolio', 'inflation', 'housing', 'dow jones', 'revenue', 'economics', 'credit', 'markets', 'return', 'unemployment', 'money', 'religion', 'cancer', 'growth', 'investment', 'hedge', 'marriage', 'bonds', 'derivatives', 'headlines', 'profit', 'society', 'leverage', 'loss', 'cash', 'office', 'fine', 'stock market', 'banking', 'crisis', 'happy', 'car', 'nasdaq', 'gains', 'finance', 'sell', 'invest', 'fed', 'house', 'metals', 'travel', 'returns', 'gain', 'default', 'present', 'holiday', 'water', 'rich', 'risk', 'gold', 'success', 'oil', 'war', 'economy', 'chance', 'short sell', 'lifestyle', 'greed', 'food', 'financial markets', 'movie', 'nyse', 'ore', 'opportunity', 'health', 'short selling', 'earnings', 'arts', 'culture', 'bubble', 'buy', 'trader', 'rare earths', 'tourism', 'politics', 'energy', 'consume', 'consumption', 'freedom', 'dividend', 'world', 'conflict', 'kitchen', 'forex', 'home', 'crash', 'transaction', 'garden', 'fond', 'train', 'labor', 'fun', 'environment', 'ring']\n"
   ]
  },
  {
   "cell_type": "markdown",
   "metadata": {},
   "source": [
    "已下載\n",
    "NO.1~NO.59 \n",
    "NO.61~NO.65"
   ]
  },
  {
   "cell_type": "markdown",
   "metadata": {},
   "source": [
    "import time\n",
    "sum=0\n",
    "num=0\n",
    "for i in keyword_fix[65:]:\n",
    "    print(\"'\"+i+\"'\"+\" begin download...\")\n",
    "    start_time = time.time()\n",
    "    GT_csv(i,'CN')\n",
    "    end_time = time.time()\n",
    "    num+=1\n",
    "    print(\"'\"+i+\"'\"+\" done. \"+'{} seconds taken'.format(round(end_time - start_time, 6)))\n",
    "    print(\"already done : \"+'{}'.format(round(num,0)))\n",
    "    sum+=round(end_time - start_time, 6)\n",
    "\n",
    "print(\"****All Done!!!!****\")\n",
    "\n",
    "total_time = time.strftime(\"%H:%M:%S\", time.gmtime( float(sum) ))\n",
    "print(\"All Take \"+total_time)\n"
   ]
  }
 ],
 "metadata": {
  "kernelspec": {
   "display_name": "Python 3",
   "language": "python",
   "name": "python3"
  },
  "language_info": {
   "codemirror_mode": {
    "name": "ipython",
    "version": 3
   },
   "file_extension": ".py",
   "mimetype": "text/x-python",
   "name": "python",
   "nbconvert_exporter": "python",
   "pygments_lexer": "ipython3",
   "version": "3.7.3"
  }
 },
 "nbformat": 4,
 "nbformat_minor": 4
}
